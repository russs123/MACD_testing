{
 "cells": [
  {
   "cell_type": "markdown",
   "metadata": {},
   "source": [
    "Source: https://www.ig.com/uk/trading-strategies/macd-trading-strategy-190610"
   ]
  },
  {
   "cell_type": "code",
   "execution_count": 266,
   "metadata": {},
   "outputs": [],
   "source": [
    "import pandas_datareader as pdr\n",
    "import datetime\n",
    "from matplotlib import pyplot as plt\n",
    "import numpy as np\n",
    "%matplotlib inline"
   ]
  },
  {
   "cell_type": "code",
   "execution_count": 267,
   "metadata": {},
   "outputs": [],
   "source": [
    "#define backtest range\n",
    "START = datetime.datetime(2000, 1, 1)\n",
    "END = datetime.datetime(2020, 1, 1)\n",
    "YEARS = (END - START).days / 365.25"
   ]
  },
  {
   "cell_type": "code",
   "execution_count": 268,
   "metadata": {},
   "outputs": [],
   "source": [
    "#define starting variables\n",
    "STARTING_BALANCE = 10000"
   ]
  },
  {
   "cell_type": "code",
   "execution_count": 269,
   "metadata": {
    "scrolled": true
   },
   "outputs": [
    {
     "data": {
      "text/html": [
       "<div>\n",
       "<style scoped>\n",
       "    .dataframe tbody tr th:only-of-type {\n",
       "        vertical-align: middle;\n",
       "    }\n",
       "\n",
       "    .dataframe tbody tr th {\n",
       "        vertical-align: top;\n",
       "    }\n",
       "\n",
       "    .dataframe thead th {\n",
       "        text-align: right;\n",
       "    }\n",
       "</style>\n",
       "<table border=\"1\" class=\"dataframe\">\n",
       "  <thead>\n",
       "    <tr style=\"text-align: right;\">\n",
       "      <th></th>\n",
       "      <th>High</th>\n",
       "      <th>Low</th>\n",
       "      <th>Open</th>\n",
       "      <th>Close</th>\n",
       "      <th>Volume</th>\n",
       "      <th>Adj Close</th>\n",
       "    </tr>\n",
       "    <tr>\n",
       "      <th>Date</th>\n",
       "      <th></th>\n",
       "      <th></th>\n",
       "      <th></th>\n",
       "      <th></th>\n",
       "      <th></th>\n",
       "      <th></th>\n",
       "    </tr>\n",
       "  </thead>\n",
       "  <tbody>\n",
       "    <tr>\n",
       "      <th>2019-12-24</th>\n",
       "      <td>3226.429932</td>\n",
       "      <td>3220.510010</td>\n",
       "      <td>3225.449951</td>\n",
       "      <td>3223.379883</td>\n",
       "      <td>1296540000</td>\n",
       "      <td>3223.379883</td>\n",
       "    </tr>\n",
       "    <tr>\n",
       "      <th>2019-12-26</th>\n",
       "      <td>3240.080078</td>\n",
       "      <td>3227.199951</td>\n",
       "      <td>3227.199951</td>\n",
       "      <td>3239.909912</td>\n",
       "      <td>2160680000</td>\n",
       "      <td>3239.909912</td>\n",
       "    </tr>\n",
       "    <tr>\n",
       "      <th>2019-12-27</th>\n",
       "      <td>3247.929932</td>\n",
       "      <td>3234.370117</td>\n",
       "      <td>3247.229980</td>\n",
       "      <td>3240.020020</td>\n",
       "      <td>2428670000</td>\n",
       "      <td>3240.020020</td>\n",
       "    </tr>\n",
       "    <tr>\n",
       "      <th>2019-12-30</th>\n",
       "      <td>3240.919922</td>\n",
       "      <td>3216.570068</td>\n",
       "      <td>3240.090088</td>\n",
       "      <td>3221.290039</td>\n",
       "      <td>3013290000</td>\n",
       "      <td>3221.290039</td>\n",
       "    </tr>\n",
       "    <tr>\n",
       "      <th>2019-12-31</th>\n",
       "      <td>3231.719971</td>\n",
       "      <td>3212.030029</td>\n",
       "      <td>3215.179932</td>\n",
       "      <td>3230.780029</td>\n",
       "      <td>2893810000</td>\n",
       "      <td>3230.780029</td>\n",
       "    </tr>\n",
       "  </tbody>\n",
       "</table>\n",
       "</div>"
      ],
      "text/plain": [
       "                   High          Low         Open        Close      Volume  \\\n",
       "Date                                                                         \n",
       "2019-12-24  3226.429932  3220.510010  3225.449951  3223.379883  1296540000   \n",
       "2019-12-26  3240.080078  3227.199951  3227.199951  3239.909912  2160680000   \n",
       "2019-12-27  3247.929932  3234.370117  3247.229980  3240.020020  2428670000   \n",
       "2019-12-30  3240.919922  3216.570068  3240.090088  3221.290039  3013290000   \n",
       "2019-12-31  3231.719971  3212.030029  3215.179932  3230.780029  2893810000   \n",
       "\n",
       "              Adj Close  \n",
       "Date                     \n",
       "2019-12-24  3223.379883  \n",
       "2019-12-26  3239.909912  \n",
       "2019-12-27  3240.020020  \n",
       "2019-12-30  3221.290039  \n",
       "2019-12-31  3230.780029  "
      ]
     },
     "execution_count": 269,
     "metadata": {},
     "output_type": "execute_result"
    }
   ],
   "source": [
    "#download data\n",
    "price = pdr.get_data_yahoo('^GSPC', START, END)\n",
    "\n",
    "price.tail()"
   ]
  },
  {
   "cell_type": "code",
   "execution_count": 270,
   "metadata": {
    "scrolled": true
   },
   "outputs": [
    {
     "data": {
      "text/html": [
       "<div>\n",
       "<style scoped>\n",
       "    .dataframe tbody tr th:only-of-type {\n",
       "        vertical-align: middle;\n",
       "    }\n",
       "\n",
       "    .dataframe tbody tr th {\n",
       "        vertical-align: top;\n",
       "    }\n",
       "\n",
       "    .dataframe thead th {\n",
       "        text-align: right;\n",
       "    }\n",
       "</style>\n",
       "<table border=\"1\" class=\"dataframe\">\n",
       "  <thead>\n",
       "    <tr style=\"text-align: right;\">\n",
       "      <th></th>\n",
       "      <th>Close</th>\n",
       "    </tr>\n",
       "    <tr>\n",
       "      <th>Date</th>\n",
       "      <th></th>\n",
       "    </tr>\n",
       "  </thead>\n",
       "  <tbody>\n",
       "    <tr>\n",
       "      <th>2019-12-24</th>\n",
       "      <td>3223.379883</td>\n",
       "    </tr>\n",
       "    <tr>\n",
       "      <th>2019-12-26</th>\n",
       "      <td>3239.909912</td>\n",
       "    </tr>\n",
       "    <tr>\n",
       "      <th>2019-12-27</th>\n",
       "      <td>3240.020020</td>\n",
       "    </tr>\n",
       "    <tr>\n",
       "      <th>2019-12-30</th>\n",
       "      <td>3221.290039</td>\n",
       "    </tr>\n",
       "    <tr>\n",
       "      <th>2019-12-31</th>\n",
       "      <td>3230.780029</td>\n",
       "    </tr>\n",
       "  </tbody>\n",
       "</table>\n",
       "</div>"
      ],
      "text/plain": [
       "                  Close\n",
       "Date                   \n",
       "2019-12-24  3223.379883\n",
       "2019-12-26  3239.909912\n",
       "2019-12-27  3240.020020\n",
       "2019-12-30  3221.290039\n",
       "2019-12-31  3230.780029"
      ]
     },
     "execution_count": 270,
     "metadata": {},
     "output_type": "execute_result"
    }
   ],
   "source": [
    "#remove columns\n",
    "price = price.drop(['Open', 'High', 'Low', 'Volume', 'Adj Close'], 1)\n",
    "\n",
    "price.tail()"
   ]
  },
  {
   "cell_type": "code",
   "execution_count": 271,
   "metadata": {},
   "outputs": [
    {
     "data": {
      "image/png": "[encoded data removed]",
      "text/plain": [
       "<Figure size 432x288 with 1 Axes>"
      ]
     },
     "metadata": {
      "needs_background": "light"
     },
     "output_type": "display_data"
    }
   ],
   "source": [
    "#plot chart\n",
    "plt.style.use('seaborn-muted')\n",
    "plt.plot(price.Close)\n",
    "plt.show()"
   ]
  },
  {
   "cell_type": "code",
   "execution_count": 272,
   "metadata": {
    "scrolled": false
   },
   "outputs": [
    {
     "data": {
      "text/html": [
       "<div>\n",
       "<style scoped>\n",
       "    .dataframe tbody tr th:only-of-type {\n",
       "        vertical-align: middle;\n",
       "    }\n",
       "\n",
       "    .dataframe tbody tr th {\n",
       "        vertical-align: top;\n",
       "    }\n",
       "\n",
       "    .dataframe thead th {\n",
       "        text-align: right;\n",
       "    }\n",
       "</style>\n",
       "<table border=\"1\" class=\"dataframe\">\n",
       "  <thead>\n",
       "    <tr style=\"text-align: right;\">\n",
       "      <th></th>\n",
       "      <th>Close</th>\n",
       "      <th>Return</th>\n",
       "      <th>Bench_Bal</th>\n",
       "    </tr>\n",
       "    <tr>\n",
       "      <th>Date</th>\n",
       "      <th></th>\n",
       "      <th></th>\n",
       "      <th></th>\n",
       "    </tr>\n",
       "  </thead>\n",
       "  <tbody>\n",
       "    <tr>\n",
       "      <th>2000-01-03</th>\n",
       "      <td>1455.219971</td>\n",
       "      <td>1.000000</td>\n",
       "      <td>10000.000000</td>\n",
       "    </tr>\n",
       "    <tr>\n",
       "      <th>2000-01-04</th>\n",
       "      <td>1399.420044</td>\n",
       "      <td>0.961655</td>\n",
       "      <td>9616.553319</td>\n",
       "    </tr>\n",
       "    <tr>\n",
       "      <th>2000-01-05</th>\n",
       "      <td>1402.109985</td>\n",
       "      <td>1.001922</td>\n",
       "      <td>9635.038094</td>\n",
       "    </tr>\n",
       "    <tr>\n",
       "      <th>2000-01-06</th>\n",
       "      <td>1403.449951</td>\n",
       "      <td>1.000956</td>\n",
       "      <td>9644.246089</td>\n",
       "    </tr>\n",
       "    <tr>\n",
       "      <th>2000-01-07</th>\n",
       "      <td>1441.469971</td>\n",
       "      <td>1.027090</td>\n",
       "      <td>9905.512567</td>\n",
       "    </tr>\n",
       "    <tr>\n",
       "      <th>...</th>\n",
       "      <td>...</td>\n",
       "      <td>...</td>\n",
       "      <td>...</td>\n",
       "    </tr>\n",
       "    <tr>\n",
       "      <th>2019-12-24</th>\n",
       "      <td>3223.379883</td>\n",
       "      <td>0.999805</td>\n",
       "      <td>22150.464862</td>\n",
       "    </tr>\n",
       "    <tr>\n",
       "      <th>2019-12-26</th>\n",
       "      <td>3239.909912</td>\n",
       "      <td>1.005128</td>\n",
       "      <td>22264.056138</td>\n",
       "    </tr>\n",
       "    <tr>\n",
       "      <th>2019-12-27</th>\n",
       "      <td>3240.020020</td>\n",
       "      <td>1.000034</td>\n",
       "      <td>22264.812776</td>\n",
       "    </tr>\n",
       "    <tr>\n",
       "      <th>2019-12-30</th>\n",
       "      <td>3221.290039</td>\n",
       "      <td>0.994219</td>\n",
       "      <td>22136.103846</td>\n",
       "    </tr>\n",
       "    <tr>\n",
       "      <th>2019-12-31</th>\n",
       "      <td>3230.780029</td>\n",
       "      <td>1.002946</td>\n",
       "      <td>22201.317288</td>\n",
       "    </tr>\n",
       "  </tbody>\n",
       "</table>\n",
       "<p>5031 rows × 3 columns</p>\n",
       "</div>"
      ],
      "text/plain": [
       "                  Close    Return     Bench_Bal\n",
       "Date                                           \n",
       "2000-01-03  1455.219971  1.000000  10000.000000\n",
       "2000-01-04  1399.420044  0.961655   9616.553319\n",
       "2000-01-05  1402.109985  1.001922   9635.038094\n",
       "2000-01-06  1403.449951  1.000956   9644.246089\n",
       "2000-01-07  1441.469971  1.027090   9905.512567\n",
       "...                 ...       ...           ...\n",
       "2019-12-24  3223.379883  0.999805  22150.464862\n",
       "2019-12-26  3239.909912  1.005128  22264.056138\n",
       "2019-12-27  3240.020020  1.000034  22264.812776\n",
       "2019-12-30  3221.290039  0.994219  22136.103846\n",
       "2019-12-31  3230.780029  1.002946  22201.317288\n",
       "\n",
       "[5031 rows x 3 columns]"
      ]
     },
     "execution_count": 272,
     "metadata": {},
     "output_type": "execute_result"
    }
   ],
   "source": [
    "#calculate daily return\n",
    "price['Return'] = price.Close / price.Close.shift(1)\n",
    "price.Return.iat[0] = 1\n",
    "price['Bench_Bal'] = STARTING_BALANCE * price.Return.cumprod()\n",
    "\n",
    "price"
   ]
  },
  {
   "cell_type": "code",
   "execution_count": 273,
   "metadata": {},
   "outputs": [
    {
     "data": {
      "text/plain": [
       "-56.78"
      ]
     },
     "execution_count": 273,
     "metadata": {},
     "output_type": "execute_result"
    }
   ],
   "source": [
    "#calculate drawdown\n",
    "price['Bench_Peak'] = price.Bench_Bal.cummax()\n",
    "price['Bench_DD'] = price.Bench_Bal - price.Bench_Peak\n",
    "\n",
    "bench_dd = round((price.Bench_DD / price.Bench_Peak).min() * 100, 2)\n",
    "\n",
    "bench_dd"
   ]
  },
  {
   "cell_type": "code",
   "execution_count": 274,
   "metadata": {},
   "outputs": [],
   "source": [
    "#calculate MACD\n",
    "exp1 = price.Close.ewm(span = 12, adjust=False).mean()\n",
    "exp2 = price.Close.ewm(span = 26, adjust=False).mean()\n",
    "\n",
    "macd = exp1 - exp2\n",
    "signal = macd.ewm(span = 9, adjust=False).mean()"
   ]
  },
  {
   "cell_type": "code",
   "execution_count": 275,
   "metadata": {
    "scrolled": true
   },
   "outputs": [
    {
     "data": {
      "image/png": "[encoded data removed]",
      "text/plain": [
       "<Figure size 432x288 with 2 Axes>"
      ]
     },
     "metadata": {
      "needs_background": "light"
     },
     "output_type": "display_data"
    }
   ],
   "source": [
    "plt.figure()\n",
    "\n",
    "#create subplot for price data\n",
    "plt.subplot(211)\n",
    "plt.plot(price.Close)\n",
    "\n",
    "#create subplot for MACD\n",
    "plt.subplot(212)\n",
    "plt.plot(macd, color = 'y')\n",
    "plt.plot(signal, color = 'g')\n",
    "\n",
    "#show plot\n",
    "plt.show()"
   ]
  },
  {
   "cell_type": "code",
   "execution_count": 276,
   "metadata": {
    "scrolled": true
   },
   "outputs": [
    {
     "data": {
      "text/html": [
       "<div>\n",
       "<style scoped>\n",
       "    .dataframe tbody tr th:only-of-type {\n",
       "        vertical-align: middle;\n",
       "    }\n",
       "\n",
       "    .dataframe tbody tr th {\n",
       "        vertical-align: top;\n",
       "    }\n",
       "\n",
       "    .dataframe thead th {\n",
       "        text-align: right;\n",
       "    }\n",
       "</style>\n",
       "<table border=\"1\" class=\"dataframe\">\n",
       "  <thead>\n",
       "    <tr style=\"text-align: right;\">\n",
       "      <th></th>\n",
       "      <th>Close</th>\n",
       "      <th>Return</th>\n",
       "      <th>Bench_Bal</th>\n",
       "      <th>Bench_Peak</th>\n",
       "      <th>Bench_DD</th>\n",
       "      <th>Long</th>\n",
       "    </tr>\n",
       "    <tr>\n",
       "      <th>Date</th>\n",
       "      <th></th>\n",
       "      <th></th>\n",
       "      <th></th>\n",
       "      <th></th>\n",
       "      <th></th>\n",
       "      <th></th>\n",
       "    </tr>\n",
       "  </thead>\n",
       "  <tbody>\n",
       "    <tr>\n",
       "      <th>2019-12-24</th>\n",
       "      <td>3223.379883</td>\n",
       "      <td>0.999805</td>\n",
       "      <td>22150.464862</td>\n",
       "      <td>22154.794977</td>\n",
       "      <td>-4.330115</td>\n",
       "      <td>True</td>\n",
       "    </tr>\n",
       "    <tr>\n",
       "      <th>2019-12-26</th>\n",
       "      <td>3239.909912</td>\n",
       "      <td>1.005128</td>\n",
       "      <td>22264.056138</td>\n",
       "      <td>22264.056138</td>\n",
       "      <td>0.000000</td>\n",
       "      <td>True</td>\n",
       "    </tr>\n",
       "    <tr>\n",
       "      <th>2019-12-27</th>\n",
       "      <td>3240.020020</td>\n",
       "      <td>1.000034</td>\n",
       "      <td>22264.812776</td>\n",
       "      <td>22264.812776</td>\n",
       "      <td>0.000000</td>\n",
       "      <td>True</td>\n",
       "    </tr>\n",
       "    <tr>\n",
       "      <th>2019-12-30</th>\n",
       "      <td>3221.290039</td>\n",
       "      <td>0.994219</td>\n",
       "      <td>22136.103846</td>\n",
       "      <td>22264.812776</td>\n",
       "      <td>-128.708930</td>\n",
       "      <td>True</td>\n",
       "    </tr>\n",
       "    <tr>\n",
       "      <th>2019-12-31</th>\n",
       "      <td>3230.780029</td>\n",
       "      <td>1.002946</td>\n",
       "      <td>22201.317288</td>\n",
       "      <td>22264.812776</td>\n",
       "      <td>-63.495488</td>\n",
       "      <td>True</td>\n",
       "    </tr>\n",
       "  </tbody>\n",
       "</table>\n",
       "</div>"
      ],
      "text/plain": [
       "                  Close    Return     Bench_Bal    Bench_Peak    Bench_DD  \\\n",
       "Date                                                                        \n",
       "2019-12-24  3223.379883  0.999805  22150.464862  22154.794977   -4.330115   \n",
       "2019-12-26  3239.909912  1.005128  22264.056138  22264.056138    0.000000   \n",
       "2019-12-27  3240.020020  1.000034  22264.812776  22264.812776    0.000000   \n",
       "2019-12-30  3221.290039  0.994219  22136.103846  22264.812776 -128.708930   \n",
       "2019-12-31  3230.780029  1.002946  22201.317288  22264.812776  -63.495488   \n",
       "\n",
       "            Long  \n",
       "Date              \n",
       "2019-12-24  True  \n",
       "2019-12-26  True  \n",
       "2019-12-27  True  \n",
       "2019-12-30  True  \n",
       "2019-12-31  True  "
      ]
     },
     "execution_count": 276,
     "metadata": {},
     "output_type": "execute_result"
    }
   ],
   "source": [
    "#add column for entries\n",
    "price['Long'] = macd > signal\n",
    "\n",
    "price.tail()"
   ]
  },
  {
   "cell_type": "code",
   "execution_count": 277,
   "metadata": {
    "scrolled": false
   },
   "outputs": [
    {
     "data": {
      "text/html": [
       "<div>\n",
       "<style scoped>\n",
       "    .dataframe tbody tr th:only-of-type {\n",
       "        vertical-align: middle;\n",
       "    }\n",
       "\n",
       "    .dataframe tbody tr th {\n",
       "        vertical-align: top;\n",
       "    }\n",
       "\n",
       "    .dataframe thead th {\n",
       "        text-align: right;\n",
       "    }\n",
       "</style>\n",
       "<table border=\"1\" class=\"dataframe\">\n",
       "  <thead>\n",
       "    <tr style=\"text-align: right;\">\n",
       "      <th></th>\n",
       "      <th>Close</th>\n",
       "      <th>Return</th>\n",
       "      <th>Bench_Bal</th>\n",
       "      <th>Bench_Peak</th>\n",
       "      <th>Bench_DD</th>\n",
       "      <th>Long</th>\n",
       "      <th>Sys_Ret</th>\n",
       "      <th>Sys_Bal</th>\n",
       "    </tr>\n",
       "    <tr>\n",
       "      <th>Date</th>\n",
       "      <th></th>\n",
       "      <th></th>\n",
       "      <th></th>\n",
       "      <th></th>\n",
       "      <th></th>\n",
       "      <th></th>\n",
       "      <th></th>\n",
       "      <th></th>\n",
       "    </tr>\n",
       "  </thead>\n",
       "  <tbody>\n",
       "    <tr>\n",
       "      <th>2000-01-03</th>\n",
       "      <td>1455.219971</td>\n",
       "      <td>1.000000</td>\n",
       "      <td>10000.000000</td>\n",
       "      <td>10000.000000</td>\n",
       "      <td>0.000000</td>\n",
       "      <td>False</td>\n",
       "      <td>1.000000</td>\n",
       "      <td>10000.000000</td>\n",
       "    </tr>\n",
       "    <tr>\n",
       "      <th>2000-01-04</th>\n",
       "      <td>1399.420044</td>\n",
       "      <td>0.961655</td>\n",
       "      <td>9616.553319</td>\n",
       "      <td>10000.000000</td>\n",
       "      <td>-383.446681</td>\n",
       "      <td>False</td>\n",
       "      <td>1.000000</td>\n",
       "      <td>10000.000000</td>\n",
       "    </tr>\n",
       "    <tr>\n",
       "      <th>2000-01-05</th>\n",
       "      <td>1402.109985</td>\n",
       "      <td>1.001922</td>\n",
       "      <td>9635.038094</td>\n",
       "      <td>10000.000000</td>\n",
       "      <td>-364.961906</td>\n",
       "      <td>False</td>\n",
       "      <td>1.000000</td>\n",
       "      <td>10000.000000</td>\n",
       "    </tr>\n",
       "    <tr>\n",
       "      <th>2000-01-06</th>\n",
       "      <td>1403.449951</td>\n",
       "      <td>1.000956</td>\n",
       "      <td>9644.246089</td>\n",
       "      <td>10000.000000</td>\n",
       "      <td>-355.753911</td>\n",
       "      <td>False</td>\n",
       "      <td>1.000000</td>\n",
       "      <td>10000.000000</td>\n",
       "    </tr>\n",
       "    <tr>\n",
       "      <th>2000-01-07</th>\n",
       "      <td>1441.469971</td>\n",
       "      <td>1.027090</td>\n",
       "      <td>9905.512567</td>\n",
       "      <td>10000.000000</td>\n",
       "      <td>-94.487433</td>\n",
       "      <td>False</td>\n",
       "      <td>1.000000</td>\n",
       "      <td>10000.000000</td>\n",
       "    </tr>\n",
       "    <tr>\n",
       "      <th>...</th>\n",
       "      <td>...</td>\n",
       "      <td>...</td>\n",
       "      <td>...</td>\n",
       "      <td>...</td>\n",
       "      <td>...</td>\n",
       "      <td>...</td>\n",
       "      <td>...</td>\n",
       "      <td>...</td>\n",
       "    </tr>\n",
       "    <tr>\n",
       "      <th>2019-12-24</th>\n",
       "      <td>3223.379883</td>\n",
       "      <td>0.999805</td>\n",
       "      <td>22150.464862</td>\n",
       "      <td>22154.794977</td>\n",
       "      <td>-4.330115</td>\n",
       "      <td>True</td>\n",
       "      <td>0.999805</td>\n",
       "      <td>13875.239536</td>\n",
       "    </tr>\n",
       "    <tr>\n",
       "      <th>2019-12-26</th>\n",
       "      <td>3239.909912</td>\n",
       "      <td>1.005128</td>\n",
       "      <td>22264.056138</td>\n",
       "      <td>22264.056138</td>\n",
       "      <td>0.000000</td>\n",
       "      <td>True</td>\n",
       "      <td>1.005128</td>\n",
       "      <td>13946.394077</td>\n",
       "    </tr>\n",
       "    <tr>\n",
       "      <th>2019-12-27</th>\n",
       "      <td>3240.020020</td>\n",
       "      <td>1.000034</td>\n",
       "      <td>22264.812776</td>\n",
       "      <td>22264.812776</td>\n",
       "      <td>0.000000</td>\n",
       "      <td>True</td>\n",
       "      <td>1.000034</td>\n",
       "      <td>13946.868041</td>\n",
       "    </tr>\n",
       "    <tr>\n",
       "      <th>2019-12-30</th>\n",
       "      <td>3221.290039</td>\n",
       "      <td>0.994219</td>\n",
       "      <td>22136.103846</td>\n",
       "      <td>22264.812776</td>\n",
       "      <td>-128.708930</td>\n",
       "      <td>True</td>\n",
       "      <td>0.994219</td>\n",
       "      <td>13866.243674</td>\n",
       "    </tr>\n",
       "    <tr>\n",
       "      <th>2019-12-31</th>\n",
       "      <td>3230.780029</td>\n",
       "      <td>1.002946</td>\n",
       "      <td>22201.317288</td>\n",
       "      <td>22264.812776</td>\n",
       "      <td>-63.495488</td>\n",
       "      <td>True</td>\n",
       "      <td>1.002946</td>\n",
       "      <td>13907.093928</td>\n",
       "    </tr>\n",
       "  </tbody>\n",
       "</table>\n",
       "<p>5031 rows × 8 columns</p>\n",
       "</div>"
      ],
      "text/plain": [
       "                  Close    Return     Bench_Bal    Bench_Peak    Bench_DD  \\\n",
       "Date                                                                        \n",
       "2000-01-03  1455.219971  1.000000  10000.000000  10000.000000    0.000000   \n",
       "2000-01-04  1399.420044  0.961655   9616.553319  10000.000000 -383.446681   \n",
       "2000-01-05  1402.109985  1.001922   9635.038094  10000.000000 -364.961906   \n",
       "2000-01-06  1403.449951  1.000956   9644.246089  10000.000000 -355.753911   \n",
       "2000-01-07  1441.469971  1.027090   9905.512567  10000.000000  -94.487433   \n",
       "...                 ...       ...           ...           ...         ...   \n",
       "2019-12-24  3223.379883  0.999805  22150.464862  22154.794977   -4.330115   \n",
       "2019-12-26  3239.909912  1.005128  22264.056138  22264.056138    0.000000   \n",
       "2019-12-27  3240.020020  1.000034  22264.812776  22264.812776    0.000000   \n",
       "2019-12-30  3221.290039  0.994219  22136.103846  22264.812776 -128.708930   \n",
       "2019-12-31  3230.780029  1.002946  22201.317288  22264.812776  -63.495488   \n",
       "\n",
       "             Long   Sys_Ret       Sys_Bal  \n",
       "Date                                       \n",
       "2000-01-03  False  1.000000  10000.000000  \n",
       "2000-01-04  False  1.000000  10000.000000  \n",
       "2000-01-05  False  1.000000  10000.000000  \n",
       "2000-01-06  False  1.000000  10000.000000  \n",
       "2000-01-07  False  1.000000  10000.000000  \n",
       "...           ...       ...           ...  \n",
       "2019-12-24   True  0.999805  13875.239536  \n",
       "2019-12-26   True  1.005128  13946.394077  \n",
       "2019-12-27   True  1.000034  13946.868041  \n",
       "2019-12-30   True  0.994219  13866.243674  \n",
       "2019-12-31   True  1.002946  13907.093928  \n",
       "\n",
       "[5031 rows x 8 columns]"
      ]
     },
     "execution_count": 277,
     "metadata": {},
     "output_type": "execute_result"
    }
   ],
   "source": [
    "#calculate system return and balance\n",
    "price['Sys_Ret'] = np.where(price.Long.shift(1) == True, price.Return, 1)\n",
    "\n",
    "price['Sys_Bal'] = STARTING_BALANCE * price.Sys_Ret.cumprod()\n",
    "\n",
    "price"
   ]
  },
  {
   "cell_type": "code",
   "execution_count": 278,
   "metadata": {
    "scrolled": true
   },
   "outputs": [
    {
     "data": {
      "text/plain": [
       "-35.01"
      ]
     },
     "execution_count": 278,
     "metadata": {},
     "output_type": "execute_result"
    }
   ],
   "source": [
    "#calculate system drawdown\n",
    "price['Sys_Peak'] = price.Sys_Bal.cummax()\n",
    "price['Sys_DD'] = price.Sys_Bal - price.Sys_Peak\n",
    "\n",
    "sys_dd = round((price.Sys_DD / price.Sys_Peak).min() * 100, 2)\n",
    "\n",
    "sys_dd"
   ]
  },
  {
   "cell_type": "code",
   "execution_count": 279,
   "metadata": {
    "scrolled": true
   },
   "outputs": [
    {
     "name": "stdout",
     "output_type": "stream",
     "text": [
      "Benchmark Total return: 122.01%\n",
      "Benchmark CAGR: 4.07%\n",
      "Benchmark DD: -56.78%\n",
      "\n",
      "System Total return: 39.07%\n",
      "System CAGR: 1.66%\n",
      "System DD: -35.01%\n"
     ]
    }
   ],
   "source": [
    "#calculate metrics\n",
    "bench_return = round(((price.Bench_Bal[-1]/price.Bench_Bal[0]) - 1) * 100, 2)\n",
    "bench_cagr = round(((((price.Bench_Bal[-1]/price.Bench_Bal[0])**(1/YEARS))-1)*100), 2)\n",
    "sys_ret = round(((price.Sys_Bal[-1]/price.Sys_Bal[0]) - 1) * 100, 2)\n",
    "sys_cagr = round(((((price.Sys_Bal[-1]/price.Sys_Bal[0])**(1/YEARS))-1)*100), 2)\n",
    "\n",
    "print(f'Benchmark Total return: {bench_return}%')\n",
    "print(f'Benchmark CAGR: {bench_cagr}%')\n",
    "print(f'Benchmark DD: {bench_dd}%')\n",
    "print('')\n",
    "print(f'System Total return: {sys_ret}%')\n",
    "print(f'System CAGR: {sys_cagr}%')\n",
    "print(f'System DD: {sys_dd}%')"
   ]
  },
  {
   "cell_type": "code",
   "execution_count": 280,
   "metadata": {
    "scrolled": true
   },
   "outputs": [
    {
     "data": {
      "image/png": "[encoded data removed]",
      "text/plain": [
       "<Figure size 432x288 with 1 Axes>"
      ]
     },
     "metadata": {
      "needs_background": "light"
     },
     "output_type": "display_data"
    }
   ],
   "source": [
    "plt.plot(price.Bench_Bal)\n",
    "plt.plot(price.Sys_Bal)\n",
    "\n",
    "plt.show()"
   ]
  },
  {
   "cell_type": "code",
   "execution_count": 281,
   "metadata": {},
   "outputs": [],
   "source": [
    "#define list of ETFs to backtest\n",
    "symbols = ['^GSPC', '^DJI', '^IXIC', '^RUT', '^N225']"
   ]
  },
  {
   "cell_type": "code",
   "execution_count": 282,
   "metadata": {},
   "outputs": [],
   "source": [
    "#create backtesting function\n",
    "def backtest(symbol):\n",
    "    #download data\n",
    "    price = pdr.get_data_yahoo(symbol, START, END)\n",
    "    \n",
    "    #remove columns\n",
    "    price = price.drop(['Open', 'High', 'Low', 'Volume', 'Adj Close'], 1)\n",
    "    \n",
    "    #calculate daily return\n",
    "    price['Return'] = price.Close / price.Close.shift(1)\n",
    "    price.Return.iat[0] = 1\n",
    "    price['Bench_Bal'] = STARTING_BALANCE * price.Return.cumprod()\n",
    "    \n",
    "    #calculate drawdown\n",
    "    price['Bench_Peak'] = price.Bench_Bal.cummax()\n",
    "    price['Bench_DD'] = price.Bench_Bal - price.Bench_Peak\n",
    "    \n",
    "    #calculate MACD\n",
    "    exp1 = price.Close.ewm(span=12, adjust=False).mean()\n",
    "    exp2 = price.Close.ewm(span=26, adjust=False).mean()\n",
    "\n",
    "    macd = exp1 - exp2\n",
    "    signal = macd.ewm(span=9, adjust=False).mean()\n",
    "    \n",
    "    #add column for long entries based on MACD signal\n",
    "    price['Long'] = macd > signal\n",
    "    \n",
    "    #calculate system return and balance\n",
    "    price['Sys_Return'] = np.where(price.Long.shift(1) == True, price.Return, 1)\n",
    "    price['Sys_Bal'] = STARTING_BALANCE * price.Sys_Return.cumprod()\n",
    "    \n",
    "    #calculate system drawdown\n",
    "    price['Sys_Peak'] = price.Sys_Bal.cummax()\n",
    "    price['Sys_DD'] = price.Sys_Bal - price.Sys_Peak\n",
    "    \n",
    "    #calculate metrics\n",
    "    bench_return = round(((price.Bench_Bal[-1]/price.Bench_Bal[0]) - 1) * 100, 2)\n",
    "    bench_cagr = round(((((price.Bench_Bal[-1]/price.Bench_Bal[0])**(1/YEARS))-1)*100), 2)\n",
    "    bench_dd = round((price.Bench_DD / price.Bench_Peak).min() * 100, 2)\n",
    "    sys_return = round(((price.Sys_Bal[-1]/price.Sys_Bal[0]) - 1) * 100, 2)\n",
    "    sys_cagr = round(((((price.Sys_Bal[-1]/price.Sys_Bal[0])**(1/YEARS))-1)*100), 2)\n",
    "    sys_dd = round(((price.Sys_DD / price.Sys_Peak).min()) * 100, 2)\n",
    "    \n",
    "    return bench_cagr, sys_cagr"
   ]
  },
  {
   "cell_type": "code",
   "execution_count": 283,
   "metadata": {},
   "outputs": [],
   "source": [
    "#backtest multiple symbols\n",
    "bc = []\n",
    "sc = []\n",
    "\n",
    "\n",
    "for symbol in symbols:\n",
    "    bench_cagr, sys_cagr = backtest(symbol)\n",
    "    bc.append(bench_cagr)\n",
    "    sc.append(sys_cagr)"
   ]
  },
  {
   "cell_type": "code",
   "execution_count": 284,
   "metadata": {
    "scrolled": false
   },
   "outputs": [
    {
     "data": {
      "image/png": "[encoded data removed]",
      "text/plain": [
       "<Figure size 432x288 with 1 Axes>"
      ]
     },
     "metadata": {
      "needs_background": "light"
     },
     "output_type": "display_data"
    }
   ],
   "source": [
    "#plot data\n",
    "x_indices = np.arange(len(symbols))\n",
    "width = 0.2\n",
    "\n",
    "plt.bar(x_indices - width / 2, bc, width = width, label = 'Benchmark')\n",
    "plt.bar(x_indices + width / 2, sc, width = width, label = 'System')\n",
    "   \n",
    "plt.xticks(ticks = x_indices, labels = symbols)\n",
    "\n",
    "plt.legend()\n",
    "\n",
    "plt.title('MACD Backtest CAGR')\n",
    "plt.xlabel('Symbols')\n",
    "plt.ylabel('% CAGR')\n",
    "plt.tight_layout()\n",
    "\n",
    "plt.show()"
   ]
  }
 ],
 "metadata": {
  "kernelspec": {
   "display_name": "Python 3",
   "language": "python",
   "name": "python3"
  },
  "language_info": {
   "codemirror_mode": {
    "name": "ipython",
    "version": 3
   },
   "file_extension": ".py",
   "mimetype": "text/x-python",
   "name": "python",
   "nbconvert_exporter": "python",
   "pygments_lexer": "ipython3",
   "version": "3.8.3"
  }
 },
 "nbformat": 4,
 "nbformat_minor": 4
}
