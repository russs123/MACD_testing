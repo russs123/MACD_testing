{
 "cells": [
  {
   "cell_type": "markdown",
   "metadata": {},
   "source": [
    "Source: https://www.ig.com/uk/trading-strategies/macd-trading-strategy-190610"
   ]
  },
  {
   "cell_type": "code",
   "execution_count": 37,
   "metadata": {},
   "outputs": [],
   "source": [
    "import pandas_datareader as pdr\n",
    "import datetime\n",
    "from matplotlib import pyplot as plt\n",
    "import numpy as np"
   ]
  },
  {
   "cell_type": "code",
   "execution_count": 38,
   "metadata": {},
   "outputs": [
    {
     "name": "stdout",
     "output_type": "stream",
     "text": [
      "9.998631074606434\n"
     ]
    }
   ],
   "source": [
    "#define backtest range\n",
    "START = datetime.datetime(2005, 1, 1)\n",
    "END = datetime.datetime(2015, 1, 1)\n",
    "YEARS = (END - START).days / 365.25\n",
    "\n",
    "print(YEARS)"
   ]
  },
  {
   "cell_type": "code",
   "execution_count": 39,
   "metadata": {},
   "outputs": [],
   "source": [
    "#define starting variables\n",
    "STARTING_BALANCE = 10000"
   ]
  },
  {
   "cell_type": "code",
   "execution_count": 40,
   "metadata": {
    "scrolled": true
   },
   "outputs": [],
   "source": [
    "#download data\n",
    "price = pdr.get_data_yahoo('^GSPC', START, END)"
   ]
  },
  {
   "cell_type": "code",
   "execution_count": 41,
   "metadata": {
    "scrolled": true
   },
   "outputs": [
    {
     "data": {
      "text/html": [
       "<div>\n",
       "<style scoped>\n",
       "    .dataframe tbody tr th:only-of-type {\n",
       "        vertical-align: middle;\n",
       "    }\n",
       "\n",
       "    .dataframe tbody tr th {\n",
       "        vertical-align: top;\n",
       "    }\n",
       "\n",
       "    .dataframe thead th {\n",
       "        text-align: right;\n",
       "    }\n",
       "</style>\n",
       "<table border=\"1\" class=\"dataframe\">\n",
       "  <thead>\n",
       "    <tr style=\"text-align: right;\">\n",
       "      <th></th>\n",
       "      <th>Open</th>\n",
       "      <th>Close</th>\n",
       "    </tr>\n",
       "    <tr>\n",
       "      <th>Date</th>\n",
       "      <th></th>\n",
       "      <th></th>\n",
       "    </tr>\n",
       "  </thead>\n",
       "  <tbody>\n",
       "    <tr>\n",
       "      <th>2014-12-24</th>\n",
       "      <td>2083.250000</td>\n",
       "      <td>2081.879883</td>\n",
       "    </tr>\n",
       "    <tr>\n",
       "      <th>2014-12-26</th>\n",
       "      <td>2084.300049</td>\n",
       "      <td>2088.770020</td>\n",
       "    </tr>\n",
       "    <tr>\n",
       "      <th>2014-12-29</th>\n",
       "      <td>2087.629883</td>\n",
       "      <td>2090.570068</td>\n",
       "    </tr>\n",
       "    <tr>\n",
       "      <th>2014-12-30</th>\n",
       "      <td>2088.489990</td>\n",
       "      <td>2080.350098</td>\n",
       "    </tr>\n",
       "    <tr>\n",
       "      <th>2014-12-31</th>\n",
       "      <td>2082.110107</td>\n",
       "      <td>2058.899902</td>\n",
       "    </tr>\n",
       "  </tbody>\n",
       "</table>\n",
       "</div>"
      ],
      "text/plain": [
       "                   Open        Close\n",
       "Date                                \n",
       "2014-12-24  2083.250000  2081.879883\n",
       "2014-12-26  2084.300049  2088.770020\n",
       "2014-12-29  2087.629883  2090.570068\n",
       "2014-12-30  2088.489990  2080.350098\n",
       "2014-12-31  2082.110107  2058.899902"
      ]
     },
     "execution_count": 41,
     "metadata": {},
     "output_type": "execute_result"
    }
   ],
   "source": [
    "#remove columns\n",
    "price = price.drop(['High', 'Low', 'Volume', 'Adj Close'], 1)\n",
    "\n",
    "price.tail()"
   ]
  },
  {
   "cell_type": "code",
   "execution_count": 42,
   "metadata": {
    "scrolled": false
   },
   "outputs": [
    {
     "data": {
      "text/html": [
       "<div>\n",
       "<style scoped>\n",
       "    .dataframe tbody tr th:only-of-type {\n",
       "        vertical-align: middle;\n",
       "    }\n",
       "\n",
       "    .dataframe tbody tr th {\n",
       "        vertical-align: top;\n",
       "    }\n",
       "\n",
       "    .dataframe thead th {\n",
       "        text-align: right;\n",
       "    }\n",
       "</style>\n",
       "<table border=\"1\" class=\"dataframe\">\n",
       "  <thead>\n",
       "    <tr style=\"text-align: right;\">\n",
       "      <th></th>\n",
       "      <th>Open</th>\n",
       "      <th>Close</th>\n",
       "      <th>Return</th>\n",
       "      <th>Bench_Bal</th>\n",
       "    </tr>\n",
       "    <tr>\n",
       "      <th>Date</th>\n",
       "      <th></th>\n",
       "      <th></th>\n",
       "      <th></th>\n",
       "      <th></th>\n",
       "    </tr>\n",
       "  </thead>\n",
       "  <tbody>\n",
       "    <tr>\n",
       "      <th>2014-12-24</th>\n",
       "      <td>2083.250000</td>\n",
       "      <td>2081.879883</td>\n",
       "      <td>0.999342</td>\n",
       "      <td>18430.344448</td>\n",
       "    </tr>\n",
       "    <tr>\n",
       "      <th>2014-12-26</th>\n",
       "      <td>2084.300049</td>\n",
       "      <td>2088.770020</td>\n",
       "      <td>1.002145</td>\n",
       "      <td>18469.869995</td>\n",
       "    </tr>\n",
       "    <tr>\n",
       "      <th>2014-12-29</th>\n",
       "      <td>2087.629883</td>\n",
       "      <td>2090.570068</td>\n",
       "      <td>1.001408</td>\n",
       "      <td>18495.882673</td>\n",
       "    </tr>\n",
       "    <tr>\n",
       "      <th>2014-12-30</th>\n",
       "      <td>2088.489990</td>\n",
       "      <td>2080.350098</td>\n",
       "      <td>0.996102</td>\n",
       "      <td>18423.794945</td>\n",
       "    </tr>\n",
       "    <tr>\n",
       "      <th>2014-12-31</th>\n",
       "      <td>2082.110107</td>\n",
       "      <td>2058.899902</td>\n",
       "      <td>0.988853</td>\n",
       "      <td>18218.416729</td>\n",
       "    </tr>\n",
       "  </tbody>\n",
       "</table>\n",
       "</div>"
      ],
      "text/plain": [
       "                   Open        Close    Return     Bench_Bal\n",
       "Date                                                        \n",
       "2014-12-24  2083.250000  2081.879883  0.999342  18430.344448\n",
       "2014-12-26  2084.300049  2088.770020  1.002145  18469.869995\n",
       "2014-12-29  2087.629883  2090.570068  1.001408  18495.882673\n",
       "2014-12-30  2088.489990  2080.350098  0.996102  18423.794945\n",
       "2014-12-31  2082.110107  2058.899902  0.988853  18218.416729"
      ]
     },
     "execution_count": 42,
     "metadata": {},
     "output_type": "execute_result"
    }
   ],
   "source": [
    "#calculate benchmark return and balance\n",
    "price['Return'] = price.Close / price.Open\n",
    "price['Bench_Bal'] = STARTING_BALANCE * price.Return.cumprod()\n",
    "\n",
    "price.tail()"
   ]
  },
  {
   "cell_type": "code",
   "execution_count": 43,
   "metadata": {},
   "outputs": [],
   "source": [
    "#calculate drawdown\n",
    "price['Bench_Peak'] = price.Bench_Bal.cummax()\n",
    "price['Bench_DD'] = price.Bench_Bal - price.Bench_Peak\n",
    "\n",
    "bench_dd = round((price.Bench_DD / price.Bench_Peak).min() * 100, 2)"
   ]
  },
  {
   "cell_type": "code",
   "execution_count": 44,
   "metadata": {},
   "outputs": [],
   "source": [
    "#calculate MACD\n",
    "exp1 = price.Close.ewm(span = 12, adjust=False).mean()\n",
    "exp2 = price.Close.ewm(span = 26, adjust=False).mean()\n",
    "\n",
    "macd = exp1 - exp2\n",
    "signal = macd.ewm(span = 9, adjust=False).mean()"
   ]
  },
  {
   "cell_type": "code",
   "execution_count": 45,
   "metadata": {
    "scrolled": true
   },
   "outputs": [
    {
     "data": {
      "image/png": "[encoded data removed]",
      "text/plain": [
       "<Figure size 432x288 with 2 Axes>"
      ]
     },
     "metadata": {
      "needs_background": "light"
     },
     "output_type": "display_data"
    }
   ],
   "source": [
    "plt.figure()\n",
    "\n",
    "#create subplot for price data\n",
    "plt.subplot(211)\n",
    "plt.plot(price.Close)\n",
    "\n",
    "#create subplot for MACD\n",
    "plt.subplot(212)\n",
    "plt.plot(macd)\n",
    "plt.plot(signal)\n",
    "\n",
    "#show plot\n",
    "plt.show()"
   ]
  },
  {
   "cell_type": "code",
   "execution_count": 46,
   "metadata": {
    "scrolled": true
   },
   "outputs": [
    {
     "data": {
      "text/html": [
       "<div>\n",
       "<style scoped>\n",
       "    .dataframe tbody tr th:only-of-type {\n",
       "        vertical-align: middle;\n",
       "    }\n",
       "\n",
       "    .dataframe tbody tr th {\n",
       "        vertical-align: top;\n",
       "    }\n",
       "\n",
       "    .dataframe thead th {\n",
       "        text-align: right;\n",
       "    }\n",
       "</style>\n",
       "<table border=\"1\" class=\"dataframe\">\n",
       "  <thead>\n",
       "    <tr style=\"text-align: right;\">\n",
       "      <th></th>\n",
       "      <th>Open</th>\n",
       "      <th>Close</th>\n",
       "      <th>Return</th>\n",
       "      <th>Bench_Bal</th>\n",
       "      <th>Bench_Peak</th>\n",
       "      <th>Bench_DD</th>\n",
       "      <th>Long</th>\n",
       "    </tr>\n",
       "    <tr>\n",
       "      <th>Date</th>\n",
       "      <th></th>\n",
       "      <th></th>\n",
       "      <th></th>\n",
       "      <th></th>\n",
       "      <th></th>\n",
       "      <th></th>\n",
       "      <th></th>\n",
       "    </tr>\n",
       "  </thead>\n",
       "  <tbody>\n",
       "    <tr>\n",
       "      <th>2014-12-24</th>\n",
       "      <td>2083.250000</td>\n",
       "      <td>2081.879883</td>\n",
       "      <td>0.999342</td>\n",
       "      <td>18430.344448</td>\n",
       "      <td>18442.473741</td>\n",
       "      <td>-12.129293</td>\n",
       "      <td>True</td>\n",
       "    </tr>\n",
       "    <tr>\n",
       "      <th>2014-12-26</th>\n",
       "      <td>2084.300049</td>\n",
       "      <td>2088.770020</td>\n",
       "      <td>1.002145</td>\n",
       "      <td>18469.869995</td>\n",
       "      <td>18469.869995</td>\n",
       "      <td>0.000000</td>\n",
       "      <td>True</td>\n",
       "    </tr>\n",
       "    <tr>\n",
       "      <th>2014-12-29</th>\n",
       "      <td>2087.629883</td>\n",
       "      <td>2090.570068</td>\n",
       "      <td>1.001408</td>\n",
       "      <td>18495.882673</td>\n",
       "      <td>18495.882673</td>\n",
       "      <td>0.000000</td>\n",
       "      <td>True</td>\n",
       "    </tr>\n",
       "    <tr>\n",
       "      <th>2014-12-30</th>\n",
       "      <td>2088.489990</td>\n",
       "      <td>2080.350098</td>\n",
       "      <td>0.996102</td>\n",
       "      <td>18423.794945</td>\n",
       "      <td>18495.882673</td>\n",
       "      <td>-72.087728</td>\n",
       "      <td>True</td>\n",
       "    </tr>\n",
       "    <tr>\n",
       "      <th>2014-12-31</th>\n",
       "      <td>2082.110107</td>\n",
       "      <td>2058.899902</td>\n",
       "      <td>0.988853</td>\n",
       "      <td>18218.416729</td>\n",
       "      <td>18495.882673</td>\n",
       "      <td>-277.465944</td>\n",
       "      <td>True</td>\n",
       "    </tr>\n",
       "  </tbody>\n",
       "</table>\n",
       "</div>"
      ],
      "text/plain": [
       "                   Open        Close    Return     Bench_Bal    Bench_Peak  \\\n",
       "Date                                                                         \n",
       "2014-12-24  2083.250000  2081.879883  0.999342  18430.344448  18442.473741   \n",
       "2014-12-26  2084.300049  2088.770020  1.002145  18469.869995  18469.869995   \n",
       "2014-12-29  2087.629883  2090.570068  1.001408  18495.882673  18495.882673   \n",
       "2014-12-30  2088.489990  2080.350098  0.996102  18423.794945  18495.882673   \n",
       "2014-12-31  2082.110107  2058.899902  0.988853  18218.416729  18495.882673   \n",
       "\n",
       "              Bench_DD  Long  \n",
       "Date                          \n",
       "2014-12-24  -12.129293  True  \n",
       "2014-12-26    0.000000  True  \n",
       "2014-12-29    0.000000  True  \n",
       "2014-12-30  -72.087728  True  \n",
       "2014-12-31 -277.465944  True  "
      ]
     },
     "execution_count": 46,
     "metadata": {},
     "output_type": "execute_result"
    }
   ],
   "source": [
    "#add column for entries\n",
    "price['Long'] = macd > signal\n",
    "\n",
    "price.tail()"
   ]
  },
  {
   "cell_type": "code",
   "execution_count": 47,
   "metadata": {
    "scrolled": false
   },
   "outputs": [
    {
     "data": {
      "text/html": [
       "<div>\n",
       "<style scoped>\n",
       "    .dataframe tbody tr th:only-of-type {\n",
       "        vertical-align: middle;\n",
       "    }\n",
       "\n",
       "    .dataframe tbody tr th {\n",
       "        vertical-align: top;\n",
       "    }\n",
       "\n",
       "    .dataframe thead th {\n",
       "        text-align: right;\n",
       "    }\n",
       "</style>\n",
       "<table border=\"1\" class=\"dataframe\">\n",
       "  <thead>\n",
       "    <tr style=\"text-align: right;\">\n",
       "      <th></th>\n",
       "      <th>Open</th>\n",
       "      <th>Close</th>\n",
       "      <th>Return</th>\n",
       "      <th>Bench_Bal</th>\n",
       "      <th>Bench_Peak</th>\n",
       "      <th>Bench_DD</th>\n",
       "      <th>Long</th>\n",
       "      <th>Sys_Ret</th>\n",
       "      <th>Sys_Bal</th>\n",
       "    </tr>\n",
       "    <tr>\n",
       "      <th>Date</th>\n",
       "      <th></th>\n",
       "      <th></th>\n",
       "      <th></th>\n",
       "      <th></th>\n",
       "      <th></th>\n",
       "      <th></th>\n",
       "      <th></th>\n",
       "      <th></th>\n",
       "      <th></th>\n",
       "    </tr>\n",
       "  </thead>\n",
       "  <tbody>\n",
       "    <tr>\n",
       "      <th>2014-12-24</th>\n",
       "      <td>2083.250000</td>\n",
       "      <td>2081.879883</td>\n",
       "      <td>0.999342</td>\n",
       "      <td>18430.344448</td>\n",
       "      <td>18442.473741</td>\n",
       "      <td>-12.129293</td>\n",
       "      <td>True</td>\n",
       "      <td>0.999342</td>\n",
       "      <td>14164.774210</td>\n",
       "    </tr>\n",
       "    <tr>\n",
       "      <th>2014-12-26</th>\n",
       "      <td>2084.300049</td>\n",
       "      <td>2088.770020</td>\n",
       "      <td>1.002145</td>\n",
       "      <td>18469.869995</td>\n",
       "      <td>18469.869995</td>\n",
       "      <td>0.000000</td>\n",
       "      <td>True</td>\n",
       "      <td>1.002145</td>\n",
       "      <td>14195.151854</td>\n",
       "    </tr>\n",
       "    <tr>\n",
       "      <th>2014-12-29</th>\n",
       "      <td>2087.629883</td>\n",
       "      <td>2090.570068</td>\n",
       "      <td>1.001408</td>\n",
       "      <td>18495.882673</td>\n",
       "      <td>18495.882673</td>\n",
       "      <td>0.000000</td>\n",
       "      <td>True</td>\n",
       "      <td>1.001408</td>\n",
       "      <td>14215.144086</td>\n",
       "    </tr>\n",
       "    <tr>\n",
       "      <th>2014-12-30</th>\n",
       "      <td>2088.489990</td>\n",
       "      <td>2080.350098</td>\n",
       "      <td>0.996102</td>\n",
       "      <td>18423.794945</td>\n",
       "      <td>18495.882673</td>\n",
       "      <td>-72.087728</td>\n",
       "      <td>True</td>\n",
       "      <td>0.996102</td>\n",
       "      <td>14159.740543</td>\n",
       "    </tr>\n",
       "    <tr>\n",
       "      <th>2014-12-31</th>\n",
       "      <td>2082.110107</td>\n",
       "      <td>2058.899902</td>\n",
       "      <td>0.988853</td>\n",
       "      <td>18218.416729</td>\n",
       "      <td>18495.882673</td>\n",
       "      <td>-277.465944</td>\n",
       "      <td>True</td>\n",
       "      <td>0.988853</td>\n",
       "      <td>14001.895633</td>\n",
       "    </tr>\n",
       "  </tbody>\n",
       "</table>\n",
       "</div>"
      ],
      "text/plain": [
       "                   Open        Close    Return     Bench_Bal    Bench_Peak  \\\n",
       "Date                                                                         \n",
       "2014-12-24  2083.250000  2081.879883  0.999342  18430.344448  18442.473741   \n",
       "2014-12-26  2084.300049  2088.770020  1.002145  18469.869995  18469.869995   \n",
       "2014-12-29  2087.629883  2090.570068  1.001408  18495.882673  18495.882673   \n",
       "2014-12-30  2088.489990  2080.350098  0.996102  18423.794945  18495.882673   \n",
       "2014-12-31  2082.110107  2058.899902  0.988853  18218.416729  18495.882673   \n",
       "\n",
       "              Bench_DD  Long   Sys_Ret       Sys_Bal  \n",
       "Date                                                  \n",
       "2014-12-24  -12.129293  True  0.999342  14164.774210  \n",
       "2014-12-26    0.000000  True  1.002145  14195.151854  \n",
       "2014-12-29    0.000000  True  1.001408  14215.144086  \n",
       "2014-12-30  -72.087728  True  0.996102  14159.740543  \n",
       "2014-12-31 -277.465944  True  0.988853  14001.895633  "
      ]
     },
     "execution_count": 47,
     "metadata": {},
     "output_type": "execute_result"
    }
   ],
   "source": [
    "#calculate system return and balance\n",
    "price['Sys_Ret'] = np.where(price.Long.shift(1) == True, price.Return, 1)\n",
    "\n",
    "price['Sys_Bal'] = STARTING_BALANCE * price.Sys_Ret.cumprod()\n",
    "\n",
    "price.tail()"
   ]
  },
  {
   "cell_type": "code",
   "execution_count": 48,
   "metadata": {
    "scrolled": true
   },
   "outputs": [
    {
     "data": {
      "text/html": [
       "<div>\n",
       "<style scoped>\n",
       "    .dataframe tbody tr th:only-of-type {\n",
       "        vertical-align: middle;\n",
       "    }\n",
       "\n",
       "    .dataframe tbody tr th {\n",
       "        vertical-align: top;\n",
       "    }\n",
       "\n",
       "    .dataframe thead th {\n",
       "        text-align: right;\n",
       "    }\n",
       "</style>\n",
       "<table border=\"1\" class=\"dataframe\">\n",
       "  <thead>\n",
       "    <tr style=\"text-align: right;\">\n",
       "      <th></th>\n",
       "      <th>Open</th>\n",
       "      <th>Close</th>\n",
       "      <th>Return</th>\n",
       "      <th>Bench_Bal</th>\n",
       "      <th>Bench_Peak</th>\n",
       "      <th>Bench_DD</th>\n",
       "      <th>Long</th>\n",
       "      <th>Sys_Ret</th>\n",
       "      <th>Sys_Bal</th>\n",
       "      <th>Sys_Peak</th>\n",
       "      <th>Sys_DD</th>\n",
       "    </tr>\n",
       "    <tr>\n",
       "      <th>Date</th>\n",
       "      <th></th>\n",
       "      <th></th>\n",
       "      <th></th>\n",
       "      <th></th>\n",
       "      <th></th>\n",
       "      <th></th>\n",
       "      <th></th>\n",
       "      <th></th>\n",
       "      <th></th>\n",
       "      <th></th>\n",
       "      <th></th>\n",
       "    </tr>\n",
       "  </thead>\n",
       "  <tbody>\n",
       "    <tr>\n",
       "      <th>2014-12-24</th>\n",
       "      <td>2083.250000</td>\n",
       "      <td>2081.879883</td>\n",
       "      <td>0.999342</td>\n",
       "      <td>18430.344448</td>\n",
       "      <td>18442.473741</td>\n",
       "      <td>-12.129293</td>\n",
       "      <td>True</td>\n",
       "      <td>0.999342</td>\n",
       "      <td>14164.774210</td>\n",
       "      <td>14304.327418</td>\n",
       "      <td>-139.553208</td>\n",
       "    </tr>\n",
       "    <tr>\n",
       "      <th>2014-12-26</th>\n",
       "      <td>2084.300049</td>\n",
       "      <td>2088.770020</td>\n",
       "      <td>1.002145</td>\n",
       "      <td>18469.869995</td>\n",
       "      <td>18469.869995</td>\n",
       "      <td>0.000000</td>\n",
       "      <td>True</td>\n",
       "      <td>1.002145</td>\n",
       "      <td>14195.151854</td>\n",
       "      <td>14304.327418</td>\n",
       "      <td>-109.175564</td>\n",
       "    </tr>\n",
       "    <tr>\n",
       "      <th>2014-12-29</th>\n",
       "      <td>2087.629883</td>\n",
       "      <td>2090.570068</td>\n",
       "      <td>1.001408</td>\n",
       "      <td>18495.882673</td>\n",
       "      <td>18495.882673</td>\n",
       "      <td>0.000000</td>\n",
       "      <td>True</td>\n",
       "      <td>1.001408</td>\n",
       "      <td>14215.144086</td>\n",
       "      <td>14304.327418</td>\n",
       "      <td>-89.183332</td>\n",
       "    </tr>\n",
       "    <tr>\n",
       "      <th>2014-12-30</th>\n",
       "      <td>2088.489990</td>\n",
       "      <td>2080.350098</td>\n",
       "      <td>0.996102</td>\n",
       "      <td>18423.794945</td>\n",
       "      <td>18495.882673</td>\n",
       "      <td>-72.087728</td>\n",
       "      <td>True</td>\n",
       "      <td>0.996102</td>\n",
       "      <td>14159.740543</td>\n",
       "      <td>14304.327418</td>\n",
       "      <td>-144.586876</td>\n",
       "    </tr>\n",
       "    <tr>\n",
       "      <th>2014-12-31</th>\n",
       "      <td>2082.110107</td>\n",
       "      <td>2058.899902</td>\n",
       "      <td>0.988853</td>\n",
       "      <td>18218.416729</td>\n",
       "      <td>18495.882673</td>\n",
       "      <td>-277.465944</td>\n",
       "      <td>True</td>\n",
       "      <td>0.988853</td>\n",
       "      <td>14001.895633</td>\n",
       "      <td>14304.327418</td>\n",
       "      <td>-302.431785</td>\n",
       "    </tr>\n",
       "  </tbody>\n",
       "</table>\n",
       "</div>"
      ],
      "text/plain": [
       "                   Open        Close    Return     Bench_Bal    Bench_Peak  \\\n",
       "Date                                                                         \n",
       "2014-12-24  2083.250000  2081.879883  0.999342  18430.344448  18442.473741   \n",
       "2014-12-26  2084.300049  2088.770020  1.002145  18469.869995  18469.869995   \n",
       "2014-12-29  2087.629883  2090.570068  1.001408  18495.882673  18495.882673   \n",
       "2014-12-30  2088.489990  2080.350098  0.996102  18423.794945  18495.882673   \n",
       "2014-12-31  2082.110107  2058.899902  0.988853  18218.416729  18495.882673   \n",
       "\n",
       "              Bench_DD  Long   Sys_Ret       Sys_Bal      Sys_Peak      Sys_DD  \n",
       "Date                                                                            \n",
       "2014-12-24  -12.129293  True  0.999342  14164.774210  14304.327418 -139.553208  \n",
       "2014-12-26    0.000000  True  1.002145  14195.151854  14304.327418 -109.175564  \n",
       "2014-12-29    0.000000  True  1.001408  14215.144086  14304.327418  -89.183332  \n",
       "2014-12-30  -72.087728  True  0.996102  14159.740543  14304.327418 -144.586876  \n",
       "2014-12-31 -277.465944  True  0.988853  14001.895633  14304.327418 -302.431785  "
      ]
     },
     "execution_count": 48,
     "metadata": {},
     "output_type": "execute_result"
    }
   ],
   "source": [
    "#calculate system drawdown\n",
    "price['Sys_Peak'] = price.Sys_Bal.cummax()\n",
    "price['Sys_DD'] = price.Sys_Bal - price.Sys_Peak\n",
    "\n",
    "sys_dd = round((price.Sys_DD / price.Sys_Peak).min() * 100, 2)\n",
    "\n",
    "price.tail()"
   ]
  },
  {
   "cell_type": "code",
   "execution_count": 49,
   "metadata": {
    "scrolled": true
   },
   "outputs": [
    {
     "name": "stdout",
     "output_type": "stream",
     "text": [
      "Benchmark Total return: 83.68%\n",
      "Benchmark CAGR: 6.27\n",
      "Benchmark DD: -52.29%\n",
      "\n",
      "System Total return: 40.02%\n",
      "System CAGR: 3.42\n",
      "System DD: -21.57%\n"
     ]
    }
   ],
   "source": [
    "#calculate metrics\n",
    "bench_return = round(((price.Bench_Bal[-1]/price.Bench_Bal[0]) - 1) * 100, 2)\n",
    "bench_cagr = round(((((price.Bench_Bal[-1]/price.Bench_Bal[0])**(1/YEARS))-1)*100), 2)\n",
    "sys_ret = round(((price.Sys_Bal[-1]/price.Sys_Bal[0]) - 1) * 100, 2)\n",
    "sys_cagr = round(((((price.Sys_Bal[-1]/price.Sys_Bal[0])**(1/YEARS))-1)*100), 2)\n",
    "\n",
    "print(f'Benchmark Total return: {bench_return}%')\n",
    "print(f'Benchmark CAGR: {bench_cagr}')\n",
    "print(f'Benchmark DD: {bench_dd}%')\n",
    "print('')\n",
    "print(f'System Total return: {sys_ret}%')\n",
    "print(f'System CAGR: {sys_cagr}')\n",
    "print(f'System DD: {sys_dd}%')"
   ]
  },
  {
   "cell_type": "code",
   "execution_count": 52,
   "metadata": {},
   "outputs": [
    {
     "data": {
      "image/png": "[encoded data removed]",
      "text/plain": [
       "<Figure size 432x288 with 1 Axes>"
      ]
     },
     "metadata": {
      "needs_background": "light"
     },
     "output_type": "display_data"
    }
   ],
   "source": [
    "plt.plot(price.Bench_Bal)\n",
    "plt.plot(price.Sys_Bal)\n",
    "\n",
    "plt.show()"
   ]
  }
 ],
 "metadata": {
  "kernelspec": {
   "display_name": "Python 3",
   "language": "python",
   "name": "python3"
  },
  "language_info": {
   "codemirror_mode": {
    "name": "ipython",
    "version": 3
   },
   "file_extension": ".py",
   "mimetype": "text/x-python",
   "name": "python",
   "nbconvert_exporter": "python",
   "pygments_lexer": "ipython3",
   "version": "3.8.3"
  }
 },
 "nbformat": 4,
 "nbformat_minor": 4
}
